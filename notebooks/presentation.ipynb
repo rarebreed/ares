{
 "cells": [
  {
   "cell_type": "markdown",
   "metadata": {},
   "source": [
    "# A simple REST service w/CRUD\n",
    "\n",
    "We will go over a small example REST service to highlight a couple of python features\n",
    "\n",
    "- Intro to pyproject.toml\n",
    "- Demo of getting existing data, creating new data, and showing existing data\n",
    "    - Show the code\n",
    "    - Start the service in reload mode\n",
    "    - Go to the swagger page\n",
    "    - Run example\n",
    "    - Run example with the httpx client"
   ]
  },
  {
   "cell_type": "markdown",
   "metadata": {},
   "source": [
    "## The pyproject.toml file\n",
    "\n",
    "Python has started strongly leaning into the TOML file world over yaml. A TOML file will unambiguously map to...well, a\n",
    "map. The pyproject.toml has become standardized in [PEP-518](https://peps.python.org/pep-0518/) and is used by many\n",
    "python tooling like poetry, autopep8, pyflake, hatch, pipenv, and many others.\n",
    "\n",
    "We are using the poetry tool, and it has some important metadata extras.  \n",
    "\n",
    "- It does the work that would normally be done in a requirements.txt file\n",
    "    - the dependency resolver is more sophisticated than the default pip\n",
    "- replaces `setuptools.py` to build a wheel and upload to PyPI\n",
    "\n",
    "The pyproject.toml file's most import parts are:\n",
    "\n",
    "- The version of the project\n",
    "- The dependencies\n",
    "    - Dependencies can declare a range, or exact specifications\n",
    "    - Dependencies can be optional and installed with a `-E` extras flag\n",
    "    - Dependencies can also be installed in groups like for development with `-G dev`\n",
    "- Can specify alternative repositories (eg private repos)"
   ]
  },
  {
   "cell_type": "markdown",
   "metadata": {},
   "source": [
    "## Demo of ares: The code\n",
    "\n",
    "Show off a little demo of the beginnings of a roleplaying game engine.  It can create and retrieve characters from a\n",
    "local duckdb database.  duckdb is like sqlite on steroids.  Although it's meant for OLAP rather than OLTP apps, it has\n",
    "full ACID guarantees, so it can be used for OLTP also.\n",
    "\n",
    "- Show the initialization of the database\n",
    "- Show the functions in service.py\n",
    "- Show the model in db/characters/characters.py"
   ]
  },
  {
   "cell_type": "code",
   "execution_count": null,
   "metadata": {},
   "outputs": [],
   "source": [
    "from pathlib import Path\n",
    "import duckdb as dd\n",
    "from duckdb import DuckDBPyConnection\n",
    "from fastapi import FastAPI\n",
    "import uvicorn\n",
    "\n",
    "from ares.models.character.character import Character, init_char_pq_path\n",
    "import pyarrow as pa"
   ]
  },
  {
   "cell_type": "markdown",
   "metadata": {},
   "source": [
    "# Initializing the database\n",
    "\n",
    "We use duckdb to store and query the data.  duckdb is extremely fast (faster than Spark by a wide margin on data that \n",
    "can fit on a single node).  Perhaps most interestingly, it can query JSON data that's been stored in a newline delimited\n",
    "format (eg NDJSON aka JSONL).\n",
    "\n",
    "Here, if we don't already have a database, it will be created.  Note the `init_df` variable which _looks_ like it is not\n",
    "being used.  But actually it is.  Duckdb will use the dataframe from the seeded initial parquet file (with the embedded\n",
    "schema) and be able to use it like SQL Table.\n",
    "\n",
    "> duckdb persistence\n",
    ">\n",
    "> By default, you do not have to give a name to connect, and it will use an in-memory database.  All data will be lost\n",
    "> when the program stops though\n",
    "\n",
    "If the db file does exist, then we load the `char_db` table.  A `testing` inner function will create a new random\n",
    "character each time we start up the service.  This is an example of a python inner function, which is handy when you\n",
    "want a _private_ function that is not accessible to outside code (technically, you can still get at it, but don't be a\n",
    "bad programmer)."
   ]
  },
  {
   "cell_type": "code",
   "execution_count": null,
   "metadata": {},
   "outputs": [],
   "source": [
    "# Create or open the database our service will use\n",
    "def init_db(db_name: str = \"ares.db\") -> DuckDBPyConnection:\n",
    "    if not Path(db_name).exists():\n",
    "        conn = dd.connect(db_name)\n",
    "        init_df = conn.read_parquet(f\"{init_char_pq_path}\")\n",
    "        conn.execute(\"CREATE TABLE char_db as SELECT * FROM init_df\")\n",
    "    else:\n",
    "        conn = dd.connect(db_name)\n",
    "        print(conn.sql(\"SHOW ALL TABLES\"))\n",
    "        print(conn.sql(\"SELECT * FROM char_db\"))\n",
    "\n",
    "\n",
    "    def testing():\n",
    "        example = Character.random_character()\n",
    "        schema = Character.arrow_schema()\n",
    "        tbl = pa.Table.from_pylist([example.model_dump()], schema=schema)\n",
    "        sql_cmd = f\"INSERT INTO char_db SELECT * FROM tbl RETURNING *\"\n",
    "        print(sql_cmd)\n",
    "        df = conn.sql(sql_cmd)\n",
    "        print(df)\n",
    "\n",
    "    testing()\n",
    "    return conn"
   ]
  },
  {
   "cell_type": "markdown",
   "metadata": {},
   "source": [
    "## The actual REST methods\n",
    "\n",
    "This is how the actual methods are implemented."
   ]
  },
  {
   "cell_type": "code",
   "execution_count": null,
   "metadata": {},
   "outputs": [],
   "source": [
    "# Create the FastAPI application\n",
    "app = FastAPI()\n",
    "\n",
    "# /v1/characters\n",
    "char_ept = \"/v1/characters/\"\n",
    "\n",
    "# Create the database connection\n",
    "conn = init_db()\n",
    "\n",
    "\n",
    "@app.post(char_ept)\n",
    "async def post_character(char: Character):\n",
    "    model = char.model_dump()\n",
    "    print(model)\n",
    "    schema = Character.arrow_schema()\n",
    "    tbl = pa.Table.from_pylist([model], schema=schema)\n",
    "    sql_cmd = f\"INSERT INTO char_db SELECT * FROM tbl RETURNING *\"\n",
    "    print(sql_cmd)\n",
    "    df = conn.sql(sql_cmd)\n",
    "    print(df)\n",
    "\n",
    "\n",
    "@app.get(f\"{char_ept}/{{uid}}\")\n",
    "async def get_character(uid: str):\n",
    "    sql_cmd = f\"SELECT * FROM char_db WHERE uid = '{uid}'\"\n",
    "    df = conn.sql(sql_cmd)\n",
    "    batch = df.to_arrow_table()\n",
    "    data = batch.to_pylist()[0]\n",
    "    return data\n",
    "\n"
   ]
  }
 ],
 "metadata": {
  "kernelspec": {
   "display_name": ".venv",
   "language": "python",
   "name": "python3"
  },
  "language_info": {
   "name": "python",
   "version": "3.11.5"
  },
  "orig_nbformat": 4
 },
 "nbformat": 4,
 "nbformat_minor": 2
}
